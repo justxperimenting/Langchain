{
 "cells": [
  {
   "cell_type": "code",
   "execution_count": 8,
   "id": "8574b183",
   "metadata": {},
   "outputs": [],
   "source": [
    "import random\n",
    "\n",
    "class NakliLLM:\n",
    "    def __init__(self):\n",
    "        print('LLM created')\n",
    "        \n",
    "    def predict(self,prompt):\n",
    "        \n",
    "        response_list = [\n",
    "            'Delhi is the capital of India',\n",
    "            'Ipl is a cricket league',\n",
    "            'AI stands for artifical intelligence'\n",
    "        ]\n",
    "         \n",
    "        return {'response': random.choice(response_list)}"
   ]
  },
  {
   "cell_type": "code",
   "execution_count": 9,
   "id": "617f1340",
   "metadata": {},
   "outputs": [
    {
     "name": "stdout",
     "output_type": "stream",
     "text": [
      "LLM created\n"
     ]
    }
   ],
   "source": [
    "llm = NakliLLM()"
   ]
  },
  {
   "cell_type": "code",
   "execution_count": 10,
   "id": "83242f28",
   "metadata": {},
   "outputs": [
    {
     "data": {
      "text/plain": [
       "{'response': 'Ipl is a cricket league'}"
      ]
     },
     "execution_count": 10,
     "metadata": {},
     "output_type": "execute_result"
    }
   ],
   "source": [
    "llm.predict('what is the capital of India')"
   ]
  },
  {
   "cell_type": "code",
   "execution_count": 11,
   "id": "ba9e0311",
   "metadata": {},
   "outputs": [],
   "source": [
    "class NakliPromptTemplate : \n",
    "    def __init__(self,template, input_variables):\n",
    "        self.template = template\n",
    "        self.input = input_variables\n",
    "    \n",
    "    def format(self,input_dict):\n",
    "        return self.template.format(**input_dict)"
   ]
  },
  {
   "cell_type": "code",
   "execution_count": 25,
   "id": "77a15b3c",
   "metadata": {},
   "outputs": [],
   "source": [
    "template = NakliPromptTemplate(\n",
    "    template = 'Write a {length} poem about {topic}',\n",
    "    input_variables = {'topic', 'length'}\n",
    ")"
   ]
  },
  {
   "cell_type": "code",
   "execution_count": 26,
   "id": "b5efc5c4",
   "metadata": {},
   "outputs": [],
   "source": [
    "prompt = template.format({'length': 'small','topic':'india'})\n"
   ]
  },
  {
   "cell_type": "code",
   "execution_count": 28,
   "id": "f81ad236",
   "metadata": {},
   "outputs": [
    {
     "data": {
      "text/plain": [
       "str"
      ]
     },
     "execution_count": 28,
     "metadata": {},
     "output_type": "execute_result"
    }
   ],
   "source": [
    "type(prompt)"
   ]
  },
  {
   "cell_type": "code",
   "execution_count": 27,
   "id": "9f8b31d5",
   "metadata": {},
   "outputs": [
    {
     "data": {
      "text/plain": [
       "{'response': 'Delhi is the capital of India'}"
      ]
     },
     "execution_count": 27,
     "metadata": {},
     "output_type": "execute_result"
    }
   ],
   "source": [
    "llm.predict(prompt)"
   ]
  },
  {
   "cell_type": "code",
   "execution_count": 29,
   "id": "93529701",
   "metadata": {},
   "outputs": [],
   "source": [
    "class NakliLLMChain :\n",
    "    def __init__(self,llm,prompt):\n",
    "        self.llm = llm\n",
    "        self.prompt = prompt\n",
    "        \n",
    "    def run(self, input_dict):\n",
    "        final_prompt = self.prompt.format(input_dict)\n",
    "        result = self.llm.predict(final_prompt)\n",
    "        \n",
    "        return result['response'] \n",
    "    \n",
    "        "
   ]
  },
  {
   "cell_type": "code",
   "execution_count": 30,
   "id": "c40f577c",
   "metadata": {},
   "outputs": [],
   "source": [
    "template = NakliPromptTemplate(\n",
    "    template = 'Write a {length} poem about {topic}',\n",
    "    input_variables = {'topic', 'length'}\n",
    ")"
   ]
  },
  {
   "cell_type": "code",
   "execution_count": 31,
   "id": "797cb33b",
   "metadata": {},
   "outputs": [
    {
     "name": "stdout",
     "output_type": "stream",
     "text": [
      "LLM created\n"
     ]
    }
   ],
   "source": [
    "llm = NakliLLM()"
   ]
  },
  {
   "cell_type": "code",
   "execution_count": 32,
   "id": "921ed28a",
   "metadata": {},
   "outputs": [],
   "source": [
    "chain = NakliLLMChain(llm,template)"
   ]
  },
  {
   "cell_type": "code",
   "execution_count": 33,
   "id": "e8e0fe5e",
   "metadata": {},
   "outputs": [
    {
     "data": {
      "text/plain": [
       "'Ipl is a cricket league'"
      ]
     },
     "execution_count": 33,
     "metadata": {},
     "output_type": "execute_result"
    }
   ],
   "source": [
    "chain.run({'length':'super mid','topic': 'idli'})"
   ]
  },
  {
   "cell_type": "code",
   "execution_count": null,
   "id": "02b64d7c",
   "metadata": {},
   "outputs": [],
   "source": []
  }
 ],
 "metadata": {
  "kernelspec": {
   "display_name": "venv",
   "language": "python",
   "name": "python3"
  },
  "language_info": {
   "codemirror_mode": {
    "name": "ipython",
    "version": 3
   },
   "file_extension": ".py",
   "mimetype": "text/x-python",
   "name": "python",
   "nbconvert_exporter": "python",
   "pygments_lexer": "ipython3",
   "version": "3.12.4"
  }
 },
 "nbformat": 4,
 "nbformat_minor": 5
}
