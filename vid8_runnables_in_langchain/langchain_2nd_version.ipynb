{
 "cells": [
  {
   "cell_type": "code",
   "execution_count": 2,
   "id": "9cc62d26",
   "metadata": {},
   "outputs": [],
   "source": [
    "from abc import ABC,abstractmethod"
   ]
  },
  {
   "cell_type": "code",
   "execution_count": 3,
   "id": "bcf8e3f2",
   "metadata": {},
   "outputs": [],
   "source": [
    "class Runnable(ABC):\n",
    "    \n",
    "    @abstractmethod\n",
    "    def invoke(input_data):\n",
    "        pass\n",
    "    "
   ]
  },
  {
   "cell_type": "code",
   "execution_count": null,
   "id": "b3ca3b4f",
   "metadata": {},
   "outputs": [
    {
     "name": "stdout",
     "output_type": "stream",
     "text": [
      "LLM created\n"
     ]
    }
   ],
   "source": [
    "import random\n",
    "\n",
    "class NakliLLM(Runnable):\n",
    "    def __init__(self):\n",
    "        print('LLM created')\n",
    "        \n",
    "    def invoke(self,input_dict):\n",
    "        response_list = [\n",
    "            'Delhi is the capital of India',\n",
    "            'Ipl is a cricket league',\n",
    "            'AI stands for artifical intelligence'\n",
    "        ]\n",
    "         \n",
    "        return {'response': random.choice(response_list)}\n",
    "        \n",
    "    def predict(self,prompt):\n",
    "        \n",
    "        response_list = [\n",
    "            'Delhi is the capital of India',\n",
    "            'Ipl is a cricket league',\n",
    "            'AI stands for artifical intelligence'\n",
    "        ]\n",
    "         \n",
    "        return {'response': random.choice(response_list)}\n"
   ]
  },
  {
   "cell_type": "code",
   "execution_count": null,
   "id": "7f4cdff5",
   "metadata": {},
   "outputs": [],
   "source": [
    "class NakliPromptTemplate(Runnable) : \n",
    "    def __init__(self,template, input_variables):\n",
    "        self.template = template\n",
    "        self.input = input_variables\n",
    "    \n",
    "    def invoke(self,input_dict):\n",
    "        return self.template.format(**input_dict)\n",
    "    \n",
    "    def format(self,input_dict):\n",
    "        return self.template.format(**input_dict)\n",
    "    "
   ]
  },
  {
   "cell_type": "code",
   "execution_count": 13,
   "id": "713f87f4",
   "metadata": {},
   "outputs": [],
   "source": [
    "class RunnableConnector(Runnable):\n",
    "    def __init__(self, runnable_list):\n",
    "        self.runnable_list = runnable_list\n",
    "    \n",
    "    def invoke(self,input_data):\n",
    "        \n",
    "        for runnable in self.runnable_list:\n",
    "            input_data = runnable.invoke(input_data)\n",
    "            \n",
    "        return input_data\n",
    "            "
   ]
  },
  {
   "cell_type": "code",
   "execution_count": 20,
   "id": "07d0864a",
   "metadata": {},
   "outputs": [],
   "source": [
    "class NakliStrOutputParser(Runnable):\n",
    "    def __init__(self):\n",
    "        pass\n",
    "    \n",
    "    def invoke(self,input_data):\n",
    "        return input_data['response']"
   ]
  },
  {
   "cell_type": "code",
   "execution_count": 17,
   "id": "3065e157",
   "metadata": {},
   "outputs": [],
   "source": [
    "template = NakliPromptTemplate(\n",
    "    template = 'Give {Number} mangoes to {Person}',\n",
    "    input_variables= {'Number', 'Person'}\n",
    ")"
   ]
  },
  {
   "cell_type": "code",
   "execution_count": 11,
   "id": "77abdd1e",
   "metadata": {},
   "outputs": [
    {
     "name": "stdout",
     "output_type": "stream",
     "text": [
      "LLM created\n"
     ]
    }
   ],
   "source": [
    "llm = NakliLLM()"
   ]
  },
  {
   "cell_type": "code",
   "execution_count": 22,
   "id": "47568d25",
   "metadata": {},
   "outputs": [],
   "source": [
    "parser = NakliStrOutputParser()"
   ]
  },
  {
   "cell_type": "code",
   "execution_count": 24,
   "id": "b3f32f1b",
   "metadata": {},
   "outputs": [],
   "source": [
    "chain = RunnableConnector([template,llm,parser])"
   ]
  },
  {
   "cell_type": "code",
   "execution_count": 25,
   "id": "7fbeee8f",
   "metadata": {},
   "outputs": [
    {
     "data": {
      "text/plain": [
       "'Ipl is a cricket league'"
      ]
     },
     "execution_count": 25,
     "metadata": {},
     "output_type": "execute_result"
    }
   ],
   "source": [
    "chain.invoke({'Number':'3','Person':'Girisha'})"
   ]
  },
  {
   "cell_type": "code",
   "execution_count": 26,
   "id": "d6befe64",
   "metadata": {},
   "outputs": [],
   "source": [
    "template1 = NakliPromptTemplate(\n",
    "    template='Write a joke about {topic}',\n",
    "    input_variables = {'topic'}\n",
    ")"
   ]
  },
  {
   "cell_type": "code",
   "execution_count": 27,
   "id": "a67060bc",
   "metadata": {},
   "outputs": [],
   "source": [
    "template2 = NakliPromptTemplate(\n",
    "    template = 'Explain the following joke \\n {response}',\n",
    "    input_variables={'response'}\n",
    ")"
   ]
  },
  {
   "cell_type": "code",
   "execution_count": 28,
   "id": "b0c573af",
   "metadata": {},
   "outputs": [
    {
     "name": "stdout",
     "output_type": "stream",
     "text": [
      "LLM created\n"
     ]
    }
   ],
   "source": [
    "llm = NakliLLM()"
   ]
  },
  {
   "cell_type": "code",
   "execution_count": 29,
   "id": "f1409ae0",
   "metadata": {},
   "outputs": [],
   "source": [
    "parser = NakliStrOutputParser()"
   ]
  },
  {
   "cell_type": "code",
   "execution_count": 30,
   "id": "6f5d3612",
   "metadata": {},
   "outputs": [],
   "source": [
    "chain1 = RunnableConnector([template1,llm])"
   ]
  },
  {
   "cell_type": "code",
   "execution_count": 31,
   "id": "330eb8ad",
   "metadata": {},
   "outputs": [
    {
     "data": {
      "text/plain": [
       "{'response': 'Delhi is the capital of India'}"
      ]
     },
     "execution_count": 31,
     "metadata": {},
     "output_type": "execute_result"
    }
   ],
   "source": [
    "chain1.invoke({'topic':'Ai'})"
   ]
  },
  {
   "cell_type": "code",
   "execution_count": 32,
   "id": "a0c65520",
   "metadata": {},
   "outputs": [],
   "source": [
    "chain2 = RunnableConnector([template2,llm,parser])"
   ]
  },
  {
   "cell_type": "code",
   "execution_count": 33,
   "id": "7cf966d7",
   "metadata": {},
   "outputs": [],
   "source": [
    "final_chain = RunnableConnector([chain1,chain2])"
   ]
  },
  {
   "cell_type": "code",
   "execution_count": 34,
   "id": "04df0873",
   "metadata": {},
   "outputs": [
    {
     "data": {
      "text/plain": [
       "'Delhi is the capital of India'"
      ]
     },
     "execution_count": 34,
     "metadata": {},
     "output_type": "execute_result"
    }
   ],
   "source": [
    "\n",
    "final_chain.invoke({'topic': 'cricket'})"
   ]
  }
 ],
 "metadata": {
  "kernelspec": {
   "display_name": "venv",
   "language": "python",
   "name": "python3"
  },
  "language_info": {
   "codemirror_mode": {
    "name": "ipython",
    "version": 3
   },
   "file_extension": ".py",
   "mimetype": "text/x-python",
   "name": "python",
   "nbconvert_exporter": "python",
   "pygments_lexer": "ipython3",
   "version": "3.12.4"
  }
 },
 "nbformat": 4,
 "nbformat_minor": 5
}
