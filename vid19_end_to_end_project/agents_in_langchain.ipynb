{
 "cells": [
  {
   "cell_type": "code",
   "execution_count": 22,
   "id": "54ee19aa",
   "metadata": {},
   "outputs": [
    {
     "data": {
      "text/html": [
       "\n",
       "<style>\n",
       ".output_area pre {\n",
       "    white-space: pre-wrap !important;\n",
       "    word-wrap: break-word !important;\n",
       "}\n",
       "</style>\n"
      ],
      "text/plain": [
       "<IPython.core.display.HTML object>"
      ]
     },
     "metadata": {},
     "output_type": "display_data"
    }
   ],
   "source": [
    "from IPython.display import display, HTML\n",
    "\n",
    "display(HTML(\"\"\"\n",
    "<style>\n",
    ".output_area pre {\n",
    "    white-space: pre-wrap !important;\n",
    "    word-wrap: break-word !important;\n",
    "}\n",
    "</style>\n",
    "\"\"\"))"
   ]
  },
  {
   "cell_type": "code",
   "execution_count": 7,
   "id": "9a5bb6d3",
   "metadata": {},
   "outputs": [],
   "source": [
    "from langchain_groq import ChatGroq\n",
    "from langchain_huggingface import HuggingFaceEmbeddings\n",
    "import requests\n",
    "from langchain_core.tools import tool\n",
    "from langchain_core.messages import HumanMessage\n",
    "from dotenv import load_dotenv"
   ]
  },
  {
   "cell_type": "code",
   "execution_count": 8,
   "id": "36aed5f3",
   "metadata": {},
   "outputs": [
    {
     "data": {
      "text/plain": [
       "True"
      ]
     },
     "execution_count": 8,
     "metadata": {},
     "output_type": "execute_result"
    }
   ],
   "source": [
    "load_dotenv()"
   ]
  },
  {
   "cell_type": "code",
   "execution_count": 6,
   "id": "d4693cf0",
   "metadata": {},
   "outputs": [
    {
     "name": "stdout",
     "output_type": "stream",
     "text": [
      "Found existing installation: ddgs 9.5.2\n",
      "Uninstalling ddgs-9.5.2:\n",
      "  Successfully uninstalled ddgs-9.5.2\n",
      "Note: you may need to restart the kernel to use updated packages.\n",
      "Collecting duckduckgo-search\n",
      "  Using cached duckduckgo_search-8.1.1-py3-none-any.whl.metadata (16 kB)\n",
      "Requirement already satisfied: click>=8.1.8 in d:\\2025_coding\\campusx\\langchain\\venv\\lib\\site-packages (from duckduckgo-search) (8.2.1)\n",
      "Requirement already satisfied: primp>=0.15.0 in d:\\2025_coding\\campusx\\langchain\\venv\\lib\\site-packages (from duckduckgo-search) (0.15.0)\n",
      "Requirement already satisfied: lxml>=5.3.0 in d:\\2025_coding\\campusx\\langchain\\venv\\lib\\site-packages (from duckduckgo-search) (6.0.0)\n",
      "Requirement already satisfied: colorama in d:\\2025_coding\\campusx\\langchain\\venv\\lib\\site-packages (from click>=8.1.8->duckduckgo-search) (0.4.6)\n",
      "Using cached duckduckgo_search-8.1.1-py3-none-any.whl (18 kB)\n",
      "Installing collected packages: duckduckgo-search\n",
      "Successfully installed duckduckgo-search-8.1.1\n",
      "Note: you may need to restart the kernel to use updated packages.\n"
     ]
    }
   ],
   "source": [
    "%pip uninstall ddgs -y\n",
    "%pip install -U duckduckgo-search"
   ]
  },
  {
   "cell_type": "code",
   "execution_count": 1,
   "id": "d77140ff",
   "metadata": {},
   "outputs": [
    {
     "name": "stderr",
     "output_type": "stream",
     "text": [
      "d:\\2025_Coding\\Campusx\\Langchain\\venv\\Lib\\site-packages\\langchain_community\\utilities\\duckduckgo_search.py:63: RuntimeWarning: This package (`duckduckgo_search`) has been renamed to `ddgs`! Use `pip install ddgs` instead.\n",
      "  with DDGS() as ddgs:\n"
     ]
    }
   ],
   "source": [
    "from langchain_community.tools import DuckDuckGoSearchRun\n",
    "\n",
    "search_tool = DuckDuckGoSearchRun()\n",
    "\n",
    "results = search_tool.invoke('top news in india today')"
   ]
  },
  {
   "cell_type": "code",
   "execution_count": 2,
   "id": "4a7a1862",
   "metadata": {},
   "outputs": [
    {
     "data": {
      "text/plain": [
       "\"17 hours ago · Today's top India news headlines, news on Indian politics, elections, government, business, technology, and Bollywood. 6 days ago · Get the latest breaking news from India covering politics, economy, social issues, technology, sports, and more. Stay updated … 3 days ago · Stay informed with breaking news and latest news on politics, business, entertainment sports, science, technology … 2 days ago · Read all India news and breaking news today from India on politics, business, entertainment, technology, sports, lifestyle and more at CNBC TV18. 16 hours ago · OpenAI's latest GPT-5 model boasts stronger reasoning, better coding, and improved health insights. OpenAI has unveiled …\""
      ]
     },
     "execution_count": 2,
     "metadata": {},
     "output_type": "execute_result"
    }
   ],
   "source": [
    "results "
   ]
  },
  {
   "cell_type": "code",
   "execution_count": 9,
   "id": "fc509935",
   "metadata": {},
   "outputs": [],
   "source": [
    "llm = ChatGroq(\n",
    "    model = 'llama-3.1-8b-instant'\n",
    ")"
   ]
  },
  {
   "cell_type": "code",
   "execution_count": 3,
   "id": "474ec3ec",
   "metadata": {},
   "outputs": [],
   "source": [
    "from langchain.agents import create_react_agent, AgentExecutor\n",
    "from langchain import hub"
   ]
  },
  {
   "cell_type": "code",
   "execution_count": 4,
   "id": "6a8898ea",
   "metadata": {},
   "outputs": [
    {
     "name": "stderr",
     "output_type": "stream",
     "text": [
      "d:\\2025_Coding\\Campusx\\Langchain\\venv\\Lib\\site-packages\\langsmith\\client.py:272: LangSmithMissingAPIKeyWarning: API key must be provided when using hosted LangSmith API\n",
      "  warnings.warn(\n"
     ]
    }
   ],
   "source": [
    "# Step 2: Pull the ReAct prompt from Langchain Hub\n",
    "prompt = hub.pull('hwchase17/react') # pulls the standard ReAct agent prompt"
   ]
  },
  {
   "cell_type": "code",
   "execution_count": 21,
   "id": "bc8cde30",
   "metadata": {},
   "outputs": [
    {
     "name": "stdout",
     "output_type": "stream",
     "text": [
      "input_variables=['agent_scratchpad', 'input', 'tool_names', 'tools'] input_types={} partial_variables={} metadata={'lc_hub_owner': 'hwchase17', 'lc_hub_repo': 'react', 'lc_hub_commit_hash': 'd15fe3c426f1c4b3f37c9198853e4a86e20c425ca7f4752ec0c9b0e97ca7ea4d'} template='Answer the following questions as best you can. You have access to the following tools:\\n\\n{tools}\\n\\nUse the following format:\\n\\nQuestion: the input question you must answer\\nThought: you should always think about what to do\\nAction: the action to take, should be one of [{tool_names}]\\nAction Input: the input to the action\\nObservation: the result of the action\\n... (this Thought/Action/Action Input/Observation can repeat N times)\\nThought: I now know the final answer\\nFinal Answer: the final answer to the original input question\\n\\nBegin!\\n\\nQuestion: {input}\\nThought:{agent_scratchpad}'\n"
     ]
    }
   ],
   "source": [
    "print(prompt)"
   ]
  },
  {
   "cell_type": "markdown",
   "id": "86567e6d",
   "metadata": {},
   "source": [
    "### DuckDuckSearchRun and simple ReAct prompt gives repetition , so i needed to hardcode my prompt and use DuckDuckGoSearchResults"
   ]
  },
  {
   "cell_type": "code",
   "execution_count": 85,
   "id": "32ec4e51",
   "metadata": {},
   "outputs": [],
   "source": [
    "from langchain_core.prompts import PromptTemplate\n",
    "\n",
    "prompt_new = PromptTemplate(\n",
    "    template = \"\"\"\n",
    "    You are a helpful AI Travel assistant.\n",
    "    You have access to the following tools:\n",
    "    {tools}\n",
    "\n",
    "    Rules:\n",
    "    - If you already know the answer from your own knowledge, skip Action/Action Input and go directly to \"Final Answer\".\n",
    "    - Only use a tool if you truly lack the information.\n",
    "    - Action must be EXACTLY one of [{tool_names}] — nothing else.\n",
    "    - Never invent tool names.\n",
    "    - Do not repeat the same search or action.\n",
    "    - Stop once you find enough info to answer.\n",
    "    - Be concise and complete.\n",
    "\n",
    "\n",
    "    Use the following format:\n",
    "\n",
    "    Question: the input question you must answer\n",
    "    Thought: you should always think about what to do\n",
    "    Action: the action to take, should be one of [{tool_names}] - nothing else\n",
    "    Action Input: the input to the action\n",
    "    Observation: the result of the action\n",
    "    ... (repeat Thought/Action/Action Input/Observation N times)\n",
    "    Once you have enough information to fully answer, write:\n",
    "    Thought: I now know the final answer\n",
    "    Final Answer: <your complete answer here>\n",
    "    Do not call any more tools after this point.\n",
    "    \n",
    "    Begin!\n",
    "\n",
    "    Question: {input}\n",
    "    Thought:{agent_scratchpad}\n",
    "    \"\"\",\n",
    "    input_variables = [\"tools\",\"input\",\"tool_names\",\"agent_scratchpad\"]\n",
    ")\n"
   ]
  },
  {
   "cell_type": "code",
   "execution_count": 86,
   "id": "40b4e04d",
   "metadata": {},
   "outputs": [],
   "source": [
    "from langchain_community.tools import DuckDuckGoSearchResults\n",
    "\n",
    "search_tool_new = DuckDuckGoSearchResults(num_results= 6)\n",
    "\n",
    "tools_new = [search_tool_new]\n",
    "\n",
    "\n"
   ]
  },
  {
   "cell_type": "code",
   "execution_count": 87,
   "id": "25d74775",
   "metadata": {},
   "outputs": [],
   "source": [
    "# Step 3: creating react agent from \n",
    "agent = create_react_agent(\n",
    "    llm = llm,\n",
    "    tools = tools_new,\n",
    "    prompt = prompt_new\n",
    ") "
   ]
  },
  {
   "cell_type": "code",
   "execution_count": 88,
   "id": "9171331a",
   "metadata": {},
   "outputs": [
    {
     "data": {
      "text/plain": [
       "'Agent does the planning work, and Agent_Executor will execute each step of the plan'"
      ]
     },
     "execution_count": 88,
     "metadata": {},
     "output_type": "execute_result"
    }
   ],
   "source": [
    "\"\"\"Agent does the planning work, and Agent_Executor will execute each step of the plan\"\"\""
   ]
  },
  {
   "cell_type": "code",
   "execution_count": 89,
   "id": "cd1d219a",
   "metadata": {},
   "outputs": [],
   "source": [
    "# step 4 : wrap it with AgentExecutor\n",
    "agent_executor = AgentExecutor(\n",
    "    agent = agent,\n",
    "    tools = tools_new,\n",
    "    verbose = True,\n",
    "    max_iterations= 6\n",
    ")\n",
    "\n",
    "# as verbose is true , so whatever the agent thinks while making plan will be seen in the console"
   ]
  },
  {
   "cell_type": "markdown",
   "id": "6e4622cd",
   "metadata": {},
   "source": [
    "Key Insights:\n",
    "1. React Prompt was made like: Though , Action , Observation and repeat again\n",
    "    i) so create_react_agent function must also get such formatted prompt\n",
    "    \n",
    "2. need to give agent sufficient iterations to search \n",
    "3. 'agent_scratchpad' is string where we get all the verbose of agent"
   ]
  },
  {
   "cell_type": "markdown",
   "id": "27487381",
   "metadata": {},
   "source": [
    "### Campusx code resumes from here"
   ]
  },
  {
   "cell_type": "code",
   "execution_count": 91,
   "id": "da4c0dd5",
   "metadata": {},
   "outputs": [
    {
     "name": "stdout",
     "output_type": "stream",
     "text": [
      "\n",
      "\n",
      "\u001b[1m> Entering new AgentExecutor chain...\u001b[0m\n",
      "\u001b[32;1m\u001b[1;3mQuestion: best way to reach goa from delhi\n",
      "Thought: I need to find the best route from Delhi to Goa. I should check if there are any direct flights or trains available.\n",
      "\n",
      "Action: duckduckgo_results_json\n",
      "Action Input: \"Delhi to Goa flights\" OR \"Delhi to Goa trains\"\u001b[0m"
     ]
    },
    {
     "name": "stderr",
     "output_type": "stream",
     "text": [
      "d:\\2025_Coding\\Campusx\\Langchain\\venv\\Lib\\site-packages\\langchain_community\\utilities\\duckduckgo_search.py:63: RuntimeWarning: This package (`duckduckgo_search`) has been renamed to `ddgs`! Use `pip install ddgs` instead.\n",
      "  with DDGS() as ddgs:\n"
     ]
    },
    {
     "name": "stdout",
     "output_type": "stream",
     "text": [
      "\u001b[36;1m\u001b[1;3msnippet: New Delhi is jointly administered by the federal government of India and the local government of Delhi, and serves as the capital of the nation …, title: Delhi - Wikipedia, link: https://en.m.wikipedia.org/wiki/Delhi, snippet: It explores the wonders of Delhi, its heritage, the art and craft, the diverse cuisine and culture. A symbol of the country's rich past and thriving …, title: Welcome to Delhi Tourism: Official Tourism Website for Government of ..., link: https://delhitourism.gov.in/index.html, snippet: Capital of India, the historical and vivacious Delhi is blessed with innumerable monuments, scenic locations and prominent shrines., title: 33 Best Places to Visit in Delhi - Delhi Tourism 2025, link: https://delhitourism.travel/places-to-visit-in-delhi, snippet: 3 days ago · Delhi is of great historical significance as an important commercial, transport, and cultural hub, as well as the …, title: Delhi | History, Population, Map, & Facts | Britannica, link: https://www.britannica.com/place/Delhi, snippet: Delhi With its flavourful street food, flea markets, monuments from different eras, throbbing nightlife, sprawling parks, posh colonies, old …, title: Delhi - Tourist Places & Top Things to Do in 2025 - MakeMyTrip, link: https://www.makemytrip.com/tripideas/places/delhi, snippet: Delhi, India's vibrant capital, is a world within itself. With its kaleidoscope of scents, sounds, and sights, Delhi never fails to captivate. From …, title: Delhi - Incredible India, link: https://www.incredibleindia.gov.in/en/delhi\u001b[0m\u001b[32;1m\u001b[1;3mQuestion: best way to reach goa from delhi\n",
      "Thought: I need to find the best route from Delhi to Goa. I should check if there are any direct flights or trains available.\n",
      "\n",
      "Action: duckduckgo_results_json\n",
      "Action Input: \"Delhi to Goa flights\"\u001b[0m"
     ]
    },
    {
     "name": "stderr",
     "output_type": "stream",
     "text": [
      "d:\\2025_Coding\\Campusx\\Langchain\\venv\\Lib\\site-packages\\langchain_community\\utilities\\duckduckgo_search.py:63: RuntimeWarning: This package (`duckduckgo_search`) has been renamed to `ddgs`! Use `pip install ddgs` instead.\n",
      "  with DDGS() as ddgs:\n"
     ]
    },
    {
     "name": "stdout",
     "output_type": "stream",
     "text": [
      "\u001b[36;1m\u001b[1;3msnippet: Delhi to Goa Flights - Book Delhi to Goa flight tickets at lowest airfare only at MakeMyTrip. Use promo code MMTDEAL & get Flat 8% Upto …, title: Delhi to Goa Flights, Fares @ ₹3868 + Upto ₹800 OFF, link: https://www.makemytrip.com/flights/new_delhi-goa-cheap-airtickets.html, snippet: Sep 3, 2014 · Book your Delhi to Goa flight at the lowest airfare. Apply promo code \"GIRUSH\" to enjoy up to 10% off on your booking. For quick …, title: Delhi to Goa Flights, Fares @ ₹3868 + upto ₹1000 OFF - Goibibo, link: https://www.goibibo.com/flights/delhi-to-goa-flights/, snippet: Book your Delhi to Goa flights at the lowest airfare. Apply promo code \"YTDELIGHT\" to enjoy up to 15% off on your booking. For quick …, title: Delhi to Goa Flight – Book from @ ₹3919 + Upto ₹3,700 OFF, link: https://www.yatra.com/flight-schedule/delhi-to-goa-flights.html, snippet: Compare and find cheap flight tickets from New Delhi (DEL) to Goa (GOI). Book directly with no added fees., title: Flight tickets from Indira Gandhi International to Goa Dabolim, link: https://www.skyscanner.co.in/routes/del/goi/indira-gandhi-international-to-goa-dabolim.html, snippet: Flights from New Delhi to Goa. Use Google Flights to plan your next trip and find cheap one way or round trip flights from New Delhi to Goa., title: Find Cheap Flights from New Delhi to Goa - Google Flights, link: https://www.google.com/travel/flights/flights-from-new-delhi-to-goa.html\u001b[0m\u001b[32;1m\u001b[1;3mQuestion: best way to reach goa from delhi\n",
      "Thought: I now know the final answer\n",
      "Final Answer: The best way to reach Goa from Delhi is by taking a flight. Several airlines such as MakeMyTrip, Goibibo, and Yatra offer flights from Delhi to Goa at competitive prices. You can also use flight comparison websites like Google Flights to find the cheapest options. Additionally, you can book trains or buses, but the journey can be quite long and may not be as convenient as taking a flight.\u001b[0m\n",
      "\n",
      "\u001b[1m> Finished chain.\u001b[0m\n",
      "{'input': 'best way to reach goa from delhi', 'output': 'The best way to reach Goa from Delhi is by taking a flight. Several airlines such as MakeMyTrip, Goibibo, and Yatra offer flights from Delhi to Goa at competitive prices. You can also use flight comparison websites like Google Flights to find the cheapest options. Additionally, you can book trains or buses, but the journey can be quite long and may not be as convenient as taking a flight.'}\n"
     ]
    }
   ],
   "source": [
    "# Step 5 : Invoke\n",
    "response = agent_executor.invoke({\"input\": \"best way to reach goa from delhi\"})\n",
    "print(response)"
   ]
  },
  {
   "cell_type": "code",
   "execution_count": null,
   "id": "51b74ddb",
   "metadata": {},
   "outputs": [
    {
     "data": {
      "text/plain": [
       "\"There are several ways to reach Goa from Delhi, including:\\n\\n1. Flight: You can take a direct flight from Delhi's Indira Gandhi International Airport to Goa's Dabolim Airport. Flight duration is approximately 1.5 hours, and frequency of flights is high.\\n2. Train: You can take a train from Delhi's Hazrat Nizamuddin Railway Station to Goa's Madgaon Railway Station. Train journey takes around 24-30 hours, depending on the type of train and route.\\n3. Road: You can drive from Delhi to Goa via the NH8 highway, which takes around 18-20 hours depending on traffic conditions. Alternatively, you can take a bus from Delhi to Goa, which takes around 24-30 hours.\""
      ]
     },
     "execution_count": 79,
     "metadata": {},
     "output_type": "execute_result"
    }
   ],
   "source": [
    "response['output']"
   ]
  },
  {
   "cell_type": "markdown",
   "id": "c12bf451",
   "metadata": {},
   "source": [
    "## Inference\n",
    "* This playlist is now complete, but langchain is not used to large scaled industrial projects.\n",
    "* For that i need to learn lang-graph\n",
    "* Now, I'll learn Fast-api"
   ]
  },
  {
   "cell_type": "markdown",
   "id": "f92b730d",
   "metadata": {},
   "source": []
  }
 ],
 "metadata": {
  "kernelspec": {
   "display_name": "venv",
   "language": "python",
   "name": "python3"
  },
  "language_info": {
   "codemirror_mode": {
    "name": "ipython",
    "version": 3
   },
   "file_extension": ".py",
   "mimetype": "text/x-python",
   "name": "python",
   "nbconvert_exporter": "python",
   "pygments_lexer": "ipython3",
   "version": "3.12.4"
  }
 },
 "nbformat": 4,
 "nbformat_minor": 5
}
