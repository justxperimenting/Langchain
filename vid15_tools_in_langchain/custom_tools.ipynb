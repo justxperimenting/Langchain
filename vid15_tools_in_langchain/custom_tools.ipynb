{
 "cells": [
  {
   "cell_type": "markdown",
   "id": "281d11bb",
   "metadata": {},
   "source": [
    "Documentation : https://python.langchain.com/docs/integrations/tools/"
   ]
  },
  {
   "cell_type": "markdown",
   "id": "41711010",
   "metadata": {},
   "source": [
    "### Custom tools"
   ]
  },
  {
   "cell_type": "code",
   "execution_count": 4,
   "id": "5eef42b5",
   "metadata": {},
   "outputs": [],
   "source": [
    "from langchain_core.tools import tool"
   ]
  },
  {
   "cell_type": "code",
   "execution_count": 1,
   "id": "56c9da34",
   "metadata": {},
   "outputs": [],
   "source": [
    "# step 1 - create a function\n",
    "\n",
    "def mutliply(a,b):\n",
    "    \"\"\"Multiply two numbers\"\"\"\n",
    "    return a*b"
   ]
  },
  {
   "cell_type": "code",
   "execution_count": 2,
   "id": "297d8824",
   "metadata": {},
   "outputs": [],
   "source": [
    "# Step 2 : add type hints\n",
    "def multiply(a : int, b : int) -> int:\n",
    "    \"\"\"Multiply two numbers\"\"\"\n",
    "    return a*b"
   ]
  },
  {
   "cell_type": "code",
   "execution_count": 9,
   "id": "8ecce929",
   "metadata": {},
   "outputs": [],
   "source": [
    "# Step 3 : add tool decorator\n",
    "\n",
    "@tool \n",
    "def multiply(a : int, b : int) -> int:\n",
    "    \"\"\"Multiply two numbers\"\"\"\n",
    "    return a*b"
   ]
  },
  {
   "cell_type": "code",
   "execution_count": 10,
   "id": "c58314c1",
   "metadata": {},
   "outputs": [],
   "source": [
    "result = multiply.invoke({\"a\":3, \"b\":5})"
   ]
  },
  {
   "cell_type": "code",
   "execution_count": 11,
   "id": "cfbaf909",
   "metadata": {},
   "outputs": [
    {
     "name": "stdout",
     "output_type": "stream",
     "text": [
      "15\n"
     ]
    }
   ],
   "source": [
    "print(result)"
   ]
  },
  {
   "cell_type": "code",
   "execution_count": 12,
   "id": "cc096651",
   "metadata": {},
   "outputs": [
    {
     "name": "stdout",
     "output_type": "stream",
     "text": [
      "multiply\n",
      "Multiply two numbers\n",
      "{'a': {'title': 'A', 'type': 'integer'}, 'b': {'title': 'B', 'type': 'integer'}}\n"
     ]
    }
   ],
   "source": [
    "print(multiply.name)\n",
    "print(multiply.description)\n",
    "print(multiply.args)\n"
   ]
  },
  {
   "cell_type": "code",
   "execution_count": 13,
   "id": "6920cd84",
   "metadata": {},
   "outputs": [
    {
     "name": "stdout",
     "output_type": "stream",
     "text": [
      "{'description': 'Multiply two numbers', 'properties': {'a': {'title': 'A', 'type': 'integer'}, 'b': {'title': 'B', 'type': 'integer'}}, 'required': ['a', 'b'], 'title': 'multiply', 'type': 'object'}\n"
     ]
    }
   ],
   "source": [
    "# what llm sees when you run a tool\n",
    "print(multiply.args_schema.model_json_schema())"
   ]
  },
  {
   "cell_type": "markdown",
   "id": "a8ce0934",
   "metadata": {},
   "source": [
    "### Method 2 : Using StructuredTool\n"
   ]
  },
  {
   "cell_type": "code",
   "execution_count": 14,
   "id": "5a3c7e38",
   "metadata": {},
   "outputs": [],
   "source": [
    "from langchain.tools import StructuredTool\n",
    "from pydantic import BaseModel, Field"
   ]
  },
  {
   "cell_type": "code",
   "execution_count": 16,
   "id": "6aeafa32",
   "metadata": {},
   "outputs": [],
   "source": [
    "class MultiplyInput(BaseModel):\n",
    "    a : int = Field(required = True, description= \"The first number to multiply\")\n",
    "    b : int = Field(required = True, description=\"The Second number to multiply\")"
   ]
  },
  {
   "cell_type": "code",
   "execution_count": 17,
   "id": "7e226d45",
   "metadata": {},
   "outputs": [],
   "source": [
    "def multiply_func(a : int , b : int):\n",
    "    return a*b"
   ]
  },
  {
   "cell_type": "code",
   "execution_count": 18,
   "id": "24b09c60",
   "metadata": {},
   "outputs": [],
   "source": [
    "multiply_tool = StructuredTool.from_function(\n",
    "    func = multiply_func,\n",
    "    name = 'multiply',\n",
    "    description=\"Multiply two numbers\",\n",
    "    args_schema = MultiplyInput\n",
    ")"
   ]
  },
  {
   "cell_type": "code",
   "execution_count": 19,
   "id": "bac1de64",
   "metadata": {},
   "outputs": [
    {
     "name": "stdout",
     "output_type": "stream",
     "text": [
      "12\n",
      "multiply\n",
      "Multiply two numbers\n",
      "{'a': {'description': 'The first number to multiply', 'required': True, 'title': 'A', 'type': 'integer'}, 'b': {'description': 'The Second number to multiply', 'required': True, 'title': 'B', 'type': 'integer'}}\n"
     ]
    }
   ],
   "source": [
    "result = multiply_tool.invoke({'a':3,'b':4})\n",
    "\n",
    "print(result)\n",
    "print(multiply_tool.name)\n",
    "print(multiply_tool.description)\n",
    "print(multiply_tool.args)\n"
   ]
  },
  {
   "cell_type": "markdown",
   "id": "a1c55f48",
   "metadata": {},
   "source": [
    "### Step 3 : Using BaseTool Class"
   ]
  },
  {
   "cell_type": "code",
   "execution_count": 20,
   "id": "910545e9",
   "metadata": {},
   "outputs": [],
   "source": [
    "from langchain.tools import BaseTool\n",
    "from typing import Type"
   ]
  },
  {
   "cell_type": "code",
   "execution_count": 21,
   "id": "a7bb8005",
   "metadata": {},
   "outputs": [],
   "source": [
    "# arg schema using pydantic\n",
    "\n",
    "class MultiplyInput(BaseModel):\n",
    "    a : int = Field(required = True, description = \"The first number to add\")\n",
    "    b : int = Field(required = True, description = \"The second number to add\")"
   ]
  },
  {
   "cell_type": "code",
   "execution_count": 22,
   "id": "d14caf3b",
   "metadata": {},
   "outputs": [],
   "source": [
    "class MultiplyTool(BaseTool):\n",
    "    name : str = 'multiply'\n",
    "    description: str = \"Multiply two numbers\"\n",
    "    \n",
    "    args_schema: Type[BaseModel] = MultiplyInput\n",
    "    \n",
    "    def _run(self, a : int, b : int) -> int:\n",
    "        return a*b"
   ]
  },
  {
   "cell_type": "code",
   "execution_count": 23,
   "id": "989ed924",
   "metadata": {},
   "outputs": [],
   "source": [
    "multiply_tool = MultiplyTool()"
   ]
  },
  {
   "cell_type": "code",
   "execution_count": 25,
   "id": "19060e37",
   "metadata": {},
   "outputs": [
    {
     "name": "stdout",
     "output_type": "stream",
     "text": [
      "20\n",
      "multiply\n",
      "Multiply two numbers\n",
      "{'a': {'description': 'The first number to add', 'required': True, 'title': 'A', 'type': 'integer'}, 'b': {'description': 'The second number to add', 'required': True, 'title': 'B', 'type': 'integer'}}\n"
     ]
    }
   ],
   "source": [
    "results = multiply_tool.invoke({'a': 4, 'b': 5})\n",
    "\n",
    "print(results)\n",
    "print(multiply_tool.name)\n",
    "print(multiply_tool.description)\n",
    "print(multiply_tool.args)"
   ]
  },
  {
   "cell_type": "code",
   "execution_count": null,
   "id": "819cdf0a",
   "metadata": {},
   "outputs": [],
   "source": []
  },
  {
   "cell_type": "markdown",
   "id": "9d6993fc",
   "metadata": {},
   "source": [
    "### Toolkit\n"
   ]
  },
  {
   "cell_type": "code",
   "execution_count": 26,
   "id": "e74e8112",
   "metadata": {},
   "outputs": [],
   "source": [
    "from langchain_core.tools import tool\n",
    "\n",
    "# custom tool\n",
    "@tool \n",
    "def add( a : int, b : int) -> int:\n",
    "    \"\"\"Add two Numbers\"\"\"\n",
    "    return a + b\n",
    "\n",
    "@tool\n",
    "def multiply(a : int, b : int) -> int:\n",
    "    \"\"\"Multiply two numbers\"\"\"\n",
    "    return a * b"
   ]
  },
  {
   "cell_type": "code",
   "execution_count": 29,
   "id": "1900c200",
   "metadata": {},
   "outputs": [],
   "source": [
    "class MathToolkit:\n",
    "    def get_tools(self):\n",
    "        return[add,multiply]"
   ]
  },
  {
   "cell_type": "code",
   "execution_count": 30,
   "id": "40a56a85",
   "metadata": {},
   "outputs": [
    {
     "name": "stdout",
     "output_type": "stream",
     "text": [
      "add  =>  Add two Numbers\n",
      "multiply  =>  Multiply two numbers\n"
     ]
    }
   ],
   "source": [
    "toolkit = MathToolkit()\n",
    "\n",
    "tools = toolkit.get_tools()\n",
    "\n",
    "for tool in tools :\n",
    "    print(tool.name, \" => \", tool.description)"
   ]
  },
  {
   "cell_type": "code",
   "execution_count": null,
   "id": "c7038492",
   "metadata": {},
   "outputs": [],
   "source": []
  }
 ],
 "metadata": {
  "kernelspec": {
   "display_name": "venv",
   "language": "python",
   "name": "python3"
  },
  "language_info": {
   "codemirror_mode": {
    "name": "ipython",
    "version": 3
   },
   "file_extension": ".py",
   "mimetype": "text/x-python",
   "name": "python",
   "nbconvert_exporter": "python",
   "pygments_lexer": "ipython3",
   "version": "3.12.4"
  }
 },
 "nbformat": 4,
 "nbformat_minor": 5
}
